{
  "nbformat": 4,
  "nbformat_minor": 0,
  "metadata": {
    "colab": {
      "name": "Assignment5.ipynb",
      "version": "0.3.2",
      "provenance": [],
      "collapsed_sections": [],
      "include_colab_link": true
    },
    "kernelspec": {
      "name": "python3",
      "display_name": "Python 3"
    },
    "accelerator": "GPU"
  },
  "cells": [
    {
      "cell_type": "markdown",
      "metadata": {
        "id": "view-in-github",
        "colab_type": "text"
      },
      "source": [
        "<a href=\"https://colab.research.google.com/github/tarun-jain98/DemoApp/blob/master/Assingment5/Assignment5.ipynb\" target=\"_parent\"><img src=\"https://colab.research.google.com/assets/colab-badge.svg\" alt=\"Open In Colab\"/></a>"
      ]
    },
    {
      "cell_type": "code",
      "metadata": {
        "id": "0SJyVpgSxHt4",
        "colab_type": "code",
        "colab": {}
      },
      "source": [
        "import numpy as np\n",
        "\n",
        "from keras.models import Sequential\n",
        "from keras.layers import Dense, Dropout, Activation, Flatten, Add, BatchNormalization\n",
        "from keras.layers import Convolution2D, MaxPooling2D\n",
        "from keras.utils import np_utils"
      ],
      "execution_count": 0,
      "outputs": []
    },
    {
      "cell_type": "markdown",
      "metadata": {
        "id": "I2KlOspXwSCc",
        "colab_type": "text"
      },
      "source": [
        "#Imports all the basic requirements."
      ]
    },
    {
      "cell_type": "code",
      "metadata": {
        "id": "9SrnPc0M3vji",
        "colab_type": "code",
        "outputId": "400b790c-6272-46b3-db4d-0b58fdd7b5f5",
        "colab": {
          "base_uri": "https://localhost:8080/",
          "height": 85
        }
      },
      "source": [
        "# example of standardizing a image dataset\n",
        "from keras.datasets import mnist\n",
        "from keras.preprocessing.image import ImageDataGenerator\n",
        "# load dataset\n",
        "(X_train, y_train), (X_test, y_test) = mnist.load_data()\n",
        "# reshape dataset to have a single channel\n",
        "width, height, channels = X_train.shape[1], X_train.shape[2], 1\n",
        "X_train = X_train.reshape((X_train.shape[0], width, height, channels))\n",
        "X_test = X_test.reshape((X_test.shape[0], width, height, channels))\n",
        "# report pixel means and standard deviations\n",
        "print('Statistics train=%.3f (%.3f), test=%.3f (%.3f)' % (X_train.mean(), X_train.std(), X_test.mean(), X_test.std()))\n",
        "# create generator that centers pixel values\n",
        "datagen = ImageDataGenerator(featurewise_center=True, featurewise_std_normalization=True)\n",
        "# calculate the mean on the training dataset\n",
        "datagen.fit(X_train)\n",
        "print('Data Generator mean=%.3f, std=%.3f' % (datagen.mean, datagen.std))\n",
        "# demonstrate effect on a single batch of samples\n",
        "iterator = datagen.flow(X_train, y_train, batch_size=64)\n",
        "# get a batch\n",
        "batchX, batchy = iterator.next()\n",
        "# pixel stats in the batch\n",
        "print(batchX.shape, batchX.mean(), batchX.std())\n",
        "# demonstrate effect on entire training dataset\n",
        "iterator = datagen.flow(X_train, y_train, batch_size=len(X_train), shuffle=False)\n",
        "# get a batch\n",
        "batchX, batchy = iterator.next()\n",
        "# pixel stats in the batch\n",
        "print(batchX.shape, batchX.mean(), batchX.std())\n",
        "\n",
        "\n",
        "\n",
        "datagen.fit(X_test)\n",
        "\n",
        "iterator = datagen.flow(X_test, y_test, batch_size=64)\n",
        "\n",
        "testX, testy = iterator.next()\n",
        "\n",
        "iterator = datagen.flow(X_test, y_test, batch_size=len(X_train), shuffle=False)\n",
        "\n",
        "testX, testy = iterator.next()"
      ],
      "execution_count": 95,
      "outputs": [
        {
          "output_type": "stream",
          "text": [
            "Statistics train=33.318 (78.567), test=33.791 (79.172)\n",
            "Data Generator mean=33.318, std=78.567\n",
            "(64, 28, 28, 1) -0.043359917 0.9497284\n",
            "(60000, 28, 28, 1) -3.4560264e-07 0.9999998\n"
          ],
          "name": "stdout"
        }
      ]
    },
    {
      "cell_type": "markdown",
      "metadata": {
        "id": "LMIS-g-EwXzH",
        "colab_type": "text"
      },
      "source": [
        "#Add image normalization to training as well as test data."
      ]
    },
    {
      "cell_type": "code",
      "metadata": {
        "id": "3HzMqbTnxQQW",
        "colab_type": "code",
        "colab": {}
      },
      "source": [
        "batchX = batchX.astype('float32')\n",
        "testX = testX.astype('float32')\n",
        "batchX /= 255\n",
        "testX /= 255"
      ],
      "execution_count": 0,
      "outputs": []
    },
    {
      "cell_type": "code",
      "metadata": {
        "id": "7LdYiW6ixR9e",
        "colab_type": "code",
        "colab": {}
      },
      "source": [
        "batchy[:10]\n",
        "batchy = np_utils.to_categorical(batchy, 10)\n",
        "testy = np_utils.to_categorical(testy, 10)"
      ],
      "execution_count": 0,
      "outputs": []
    },
    {
      "cell_type": "code",
      "metadata": {
        "id": "rFR0F9j0xVp2",
        "colab_type": "code",
        "outputId": "59674dcd-9c84-40d4-f330-fae035fde47d",
        "colab": {
          "base_uri": "https://localhost:8080/",
          "height": 187
        }
      },
      "source": [
        "batchy[:10]"
      ],
      "execution_count": 0,
      "outputs": [
        {
          "output_type": "execute_result",
          "data": {
            "text/plain": [
              "array([[0., 0., 0., 0., 0., 1., 0., 0., 0., 0.],\n",
              "       [1., 0., 0., 0., 0., 0., 0., 0., 0., 0.],\n",
              "       [0., 0., 0., 0., 1., 0., 0., 0., 0., 0.],\n",
              "       [0., 1., 0., 0., 0., 0., 0., 0., 0., 0.],\n",
              "       [0., 0., 0., 0., 0., 0., 0., 0., 0., 1.],\n",
              "       [0., 0., 1., 0., 0., 0., 0., 0., 0., 0.],\n",
              "       [0., 1., 0., 0., 0., 0., 0., 0., 0., 0.],\n",
              "       [0., 0., 0., 1., 0., 0., 0., 0., 0., 0.],\n",
              "       [0., 1., 0., 0., 0., 0., 0., 0., 0., 0.],\n",
              "       [0., 0., 0., 0., 1., 0., 0., 0., 0., 0.]], dtype=float32)"
            ]
          },
          "metadata": {
            "tags": []
          },
          "execution_count": 59
        }
      ]
    },
    {
      "cell_type": "code",
      "metadata": {
        "id": "mDpXf4YQxXRm",
        "colab_type": "code",
        "outputId": "ee758220-0f60-47b7-d356-a2b3238dd0b6",
        "colab": {
          "base_uri": "https://localhost:8080/",
          "height": 1193
        }
      },
      "source": [
        "import keras\n",
        "from keras.layers import Activation\n",
        "from keras import regularizers\n",
        "model = Sequential()\n",
        "\n",
        "model.add(Convolution2D(16, 3, 3, activation='relu', input_shape=(28,28,1),kernel_regularizer=regularizers.l2(0.01))) #26\n",
        "model.add(Dropout(0.1))\n",
        "\n",
        "model.add(BatchNormalization())\n",
        "model.add(Convolution2D(32, 3, 3, activation='relu',kernel_regularizer=regularizers.l2(0.01))) #24\n",
        "model.add(Dropout(0.1))\n",
        "\n",
        "model.add(Convolution2D(10, 1, 1, activation='relu',kernel_regularizer=regularizers.l2(0.01))) #22\n",
        "model.add(Dropout(0.1))\n",
        "model.add(MaxPooling2D(pool_size=(2, 2)))#11\n",
        "\n",
        "model.add(BatchNormalization())\n",
        "model.add(Convolution2D(16, 3, 3, activation='relu',kernel_regularizer=regularizers.l2(0.01)))#9\n",
        "model.add(Dropout(0.1))\n",
        "\n",
        "model.add(BatchNormalization())\n",
        "model.add(Convolution2D(16, 3, 3, activation='relu',kernel_regularizer=regularizers.l2(0.01)))#7\n",
        "model.add(Dropout(0.1))\n",
        "\n",
        "model.add(BatchNormalization())\n",
        "model.add(Convolution2D(16, 3, 3, activation='relu',kernel_regularizer=regularizers.l2(0.01)))#5\n",
        "model.add(Dropout(0.1))\n",
        "\n",
        "model.add(BatchNormalization())\n",
        "model.add(Convolution2D(16, 3, 3, activation='relu',kernel_regularizer=regularizers.l2(0.01)))#3\n",
        "model.add(Dropout(0.1))\n",
        "\n",
        "model.add(BatchNormalization())\n",
        "model.add(Convolution2D(10, 4, 4,kernel_regularizer=regularizers.l2(0.01)))\n",
        "model.add(Dropout(0.1))\n",
        "\n",
        "\n",
        "# keras.regularizers.l2(0.01)\n",
        "model.add(Flatten())\n",
        "model.add(Activation('softmax'))\n",
        "\n",
        "\n",
        "model.summary()"
      ],
      "execution_count": 66,
      "outputs": [
        {
          "output_type": "stream",
          "text": [
            "/usr/local/lib/python3.6/dist-packages/ipykernel_launcher.py:6: UserWarning: Update your `Conv2D` call to the Keras 2 API: `Conv2D(16, (3, 3), activation=\"relu\", input_shape=(28, 28, 1..., kernel_regularizer=<keras.reg...)`\n",
            "  \n",
            "/usr/local/lib/python3.6/dist-packages/ipykernel_launcher.py:10: UserWarning: Update your `Conv2D` call to the Keras 2 API: `Conv2D(32, (3, 3), activation=\"relu\", kernel_regularizer=<keras.reg...)`\n",
            "  # Remove the CWD from sys.path while we load stuff.\n",
            "/usr/local/lib/python3.6/dist-packages/ipykernel_launcher.py:13: UserWarning: Update your `Conv2D` call to the Keras 2 API: `Conv2D(10, (1, 1), activation=\"relu\", kernel_regularizer=<keras.reg...)`\n",
            "  del sys.path[0]\n",
            "/usr/local/lib/python3.6/dist-packages/ipykernel_launcher.py:18: UserWarning: Update your `Conv2D` call to the Keras 2 API: `Conv2D(16, (3, 3), activation=\"relu\", kernel_regularizer=<keras.reg...)`\n",
            "/usr/local/lib/python3.6/dist-packages/ipykernel_launcher.py:22: UserWarning: Update your `Conv2D` call to the Keras 2 API: `Conv2D(16, (3, 3), activation=\"relu\", kernel_regularizer=<keras.reg...)`\n",
            "/usr/local/lib/python3.6/dist-packages/ipykernel_launcher.py:26: UserWarning: Update your `Conv2D` call to the Keras 2 API: `Conv2D(16, (3, 3), activation=\"relu\", kernel_regularizer=<keras.reg...)`\n",
            "/usr/local/lib/python3.6/dist-packages/ipykernel_launcher.py:30: UserWarning: Update your `Conv2D` call to the Keras 2 API: `Conv2D(16, (3, 3), activation=\"relu\", kernel_regularizer=<keras.reg...)`\n"
          ],
          "name": "stderr"
        },
        {
          "output_type": "stream",
          "text": [
            "_________________________________________________________________\n",
            "Layer (type)                 Output Shape              Param #   \n",
            "=================================================================\n",
            "conv2d_49 (Conv2D)           (None, 26, 26, 16)        160       \n",
            "_________________________________________________________________\n",
            "dropout_40 (Dropout)         (None, 26, 26, 16)        0         \n",
            "_________________________________________________________________\n",
            "batch_normalization_39 (Batc (None, 26, 26, 16)        64        \n",
            "_________________________________________________________________\n",
            "conv2d_50 (Conv2D)           (None, 24, 24, 32)        4640      \n",
            "_________________________________________________________________\n",
            "dropout_41 (Dropout)         (None, 24, 24, 32)        0         \n",
            "_________________________________________________________________\n",
            "conv2d_51 (Conv2D)           (None, 24, 24, 10)        330       \n",
            "_________________________________________________________________\n",
            "dropout_42 (Dropout)         (None, 24, 24, 10)        0         \n",
            "_________________________________________________________________\n",
            "max_pooling2d_7 (MaxPooling2 (None, 12, 12, 10)        0         \n",
            "_________________________________________________________________\n",
            "batch_normalization_40 (Batc (None, 12, 12, 10)        40        \n",
            "_________________________________________________________________\n",
            "conv2d_52 (Conv2D)           (None, 10, 10, 16)        1456      \n",
            "_________________________________________________________________\n",
            "dropout_43 (Dropout)         (None, 10, 10, 16)        0         \n",
            "_________________________________________________________________\n",
            "batch_normalization_41 (Batc (None, 10, 10, 16)        64        \n",
            "_________________________________________________________________\n",
            "conv2d_53 (Conv2D)           (None, 8, 8, 16)          2320      \n",
            "_________________________________________________________________\n",
            "dropout_44 (Dropout)         (None, 8, 8, 16)          0         \n",
            "_________________________________________________________________\n",
            "batch_normalization_42 (Batc (None, 8, 8, 16)          64        \n",
            "_________________________________________________________________\n",
            "conv2d_54 (Conv2D)           (None, 6, 6, 16)          2320      \n",
            "_________________________________________________________________\n",
            "dropout_45 (Dropout)         (None, 6, 6, 16)          0         \n",
            "_________________________________________________________________\n",
            "batch_normalization_43 (Batc (None, 6, 6, 16)          64        \n",
            "_________________________________________________________________\n",
            "conv2d_55 (Conv2D)           (None, 4, 4, 16)          2320      \n",
            "_________________________________________________________________\n",
            "dropout_46 (Dropout)         (None, 4, 4, 16)          0         \n",
            "_________________________________________________________________\n",
            "batch_normalization_44 (Batc (None, 4, 4, 16)          64        \n",
            "_________________________________________________________________\n",
            "conv2d_56 (Conv2D)           (None, 1, 1, 10)          2570      \n",
            "_________________________________________________________________\n",
            "dropout_47 (Dropout)         (None, 1, 1, 10)          0         \n",
            "_________________________________________________________________\n",
            "flatten_7 (Flatten)          (None, 10)                0         \n",
            "_________________________________________________________________\n",
            "activation_14 (Activation)   (None, 10)                0         \n",
            "=================================================================\n",
            "Total params: 16,476\n",
            "Trainable params: 16,296\n",
            "Non-trainable params: 180\n",
            "_________________________________________________________________\n"
          ],
          "name": "stdout"
        },
        {
          "output_type": "stream",
          "text": [
            "/usr/local/lib/python3.6/dist-packages/ipykernel_launcher.py:34: UserWarning: Update your `Conv2D` call to the Keras 2 API: `Conv2D(10, (4, 4), kernel_regularizer=<keras.reg...)`\n"
          ],
          "name": "stderr"
        }
      ]
    },
    {
      "cell_type": "markdown",
      "metadata": {
        "id": "_MCxs81-wgKw",
        "colab_type": "text"
      },
      "source": [
        "#The basic model architecture. "
      ]
    },
    {
      "cell_type": "code",
      "metadata": {
        "id": "L2IicGJ4x3Be",
        "colab_type": "code",
        "outputId": "07f9bd3c-d18c-4205-c365-46e0a562abd3",
        "colab": {
          "base_uri": "https://localhost:8080/",
          "height": 4131
        }
      },
      "source": [
        "from keras.optimizers import Adam\n",
        "from keras.callbacks import LearningRateScheduler\n",
        "from keras.layers import Dense\n",
        "from keras.callbacks import ModelCheckpoint\n",
        "def scheduler(epoch, lr):\n",
        "  return round(0.003 * 1/(1 + 0.319 * epoch), 10)\n",
        "\n",
        "model.compile(loss='categorical_crossentropy', optimizer=Adam(lr=0.003), metrics=['accuracy'])\n",
        "\n",
        "\n",
        "filepath=\"weights-improvement.hdf5\"\n",
        "checkpoint = ModelCheckpoint(filepath, monitor='val_acc', verbose=1, save_best_only=True, mode='max')\n",
        "lr=LearningRateScheduler(scheduler, verbose=1)\n",
        "callbacks_list = [lr,checkpoint]\n",
        "\n",
        "model.fit(batchX, batchy, batch_size=128, epochs=40, verbose=1, validation_data=(testX, testy), callbacks=callbacks_list)"
      ],
      "execution_count": 67,
      "outputs": [
        {
          "output_type": "stream",
          "text": [
            "Train on 60000 samples, validate on 10000 samples\n",
            "Epoch 1/40\n",
            "\n",
            "Epoch 00001: LearningRateScheduler setting learning rate to 0.003.\n",
            "60000/60000 [==============================] - 17s 291us/step - loss: 0.8296 - acc: 0.8619 - val_loss: 0.6090 - val_acc: 0.8580\n",
            "\n",
            "Epoch 00001: val_acc improved from -inf to 0.85800, saving model to weights-improvement.hdf5\n",
            "Epoch 2/40\n",
            "\n",
            "Epoch 00002: LearningRateScheduler setting learning rate to 0.0022744503.\n",
            "60000/60000 [==============================] - 8s 128us/step - loss: 0.3254 - acc: 0.9308 - val_loss: 0.5376 - val_acc: 0.8672\n",
            "\n",
            "Epoch 00002: val_acc improved from 0.85800 to 0.86720, saving model to weights-improvement.hdf5\n",
            "Epoch 3/40\n",
            "\n",
            "Epoch 00003: LearningRateScheduler setting learning rate to 0.0018315018.\n",
            "60000/60000 [==============================] - 8s 127us/step - loss: 0.2794 - acc: 0.9368 - val_loss: 0.2154 - val_acc: 0.9645\n",
            "\n",
            "Epoch 00003: val_acc improved from 0.86720 to 0.96450, saving model to weights-improvement.hdf5\n",
            "Epoch 4/40\n",
            "\n",
            "Epoch 00004: LearningRateScheduler setting learning rate to 0.0015329586.\n",
            "60000/60000 [==============================] - 8s 126us/step - loss: 0.2572 - acc: 0.9398 - val_loss: 0.1811 - val_acc: 0.9738\n",
            "\n",
            "Epoch 00004: val_acc improved from 0.96450 to 0.97380, saving model to weights-improvement.hdf5\n",
            "Epoch 5/40\n",
            "\n",
            "Epoch 00005: LearningRateScheduler setting learning rate to 0.0013181019.\n",
            "60000/60000 [==============================] - 8s 127us/step - loss: 0.2371 - acc: 0.9416 - val_loss: 0.5673 - val_acc: 0.8440\n",
            "\n",
            "Epoch 00005: val_acc did not improve from 0.97380\n",
            "Epoch 6/40\n",
            "\n",
            "Epoch 00006: LearningRateScheduler setting learning rate to 0.0011560694.\n",
            "60000/60000 [==============================] - 8s 127us/step - loss: 0.2245 - acc: 0.9435 - val_loss: 0.1374 - val_acc: 0.9829\n",
            "\n",
            "Epoch 00006: val_acc improved from 0.97380 to 0.98290, saving model to weights-improvement.hdf5\n",
            "Epoch 7/40\n",
            "\n",
            "Epoch 00007: LearningRateScheduler setting learning rate to 0.0010295127.\n",
            "60000/60000 [==============================] - 8s 127us/step - loss: 0.2160 - acc: 0.9449 - val_loss: 0.5359 - val_acc: 0.8590\n",
            "\n",
            "Epoch 00007: val_acc did not improve from 0.98290\n",
            "Epoch 8/40\n",
            "\n",
            "Epoch 00008: LearningRateScheduler setting learning rate to 0.0009279307.\n",
            "60000/60000 [==============================] - 8s 126us/step - loss: 0.2034 - acc: 0.9470 - val_loss: 0.3742 - val_acc: 0.9010\n",
            "\n",
            "Epoch 00008: val_acc did not improve from 0.98290\n",
            "Epoch 9/40\n",
            "\n",
            "Epoch 00009: LearningRateScheduler setting learning rate to 0.0008445946.\n",
            "60000/60000 [==============================] - 8s 128us/step - loss: 0.1970 - acc: 0.9471 - val_loss: 1.0051 - val_acc: 0.7128\n",
            "\n",
            "Epoch 00009: val_acc did not improve from 0.98290\n",
            "Epoch 10/40\n",
            "\n",
            "Epoch 00010: LearningRateScheduler setting learning rate to 0.0007749935.\n",
            "60000/60000 [==============================] - 8s 127us/step - loss: 0.1980 - acc: 0.9455 - val_loss: 0.2584 - val_acc: 0.9377\n",
            "\n",
            "Epoch 00010: val_acc did not improve from 0.98290\n",
            "Epoch 11/40\n",
            "\n",
            "Epoch 00011: LearningRateScheduler setting learning rate to 0.0007159905.\n",
            "60000/60000 [==============================] - 8s 127us/step - loss: 0.1853 - acc: 0.9485 - val_loss: 0.1237 - val_acc: 0.9814\n",
            "\n",
            "Epoch 00011: val_acc did not improve from 0.98290\n",
            "Epoch 12/40\n",
            "\n",
            "Epoch 00012: LearningRateScheduler setting learning rate to 0.000665336.\n",
            "60000/60000 [==============================] - 8s 127us/step - loss: 0.1797 - acc: 0.9496 - val_loss: 0.3063 - val_acc: 0.9200\n",
            "\n",
            "Epoch 00012: val_acc did not improve from 0.98290\n",
            "Epoch 13/40\n",
            "\n",
            "Epoch 00013: LearningRateScheduler setting learning rate to 0.0006213753.\n",
            "60000/60000 [==============================] - 8s 128us/step - loss: 0.1786 - acc: 0.9493 - val_loss: 0.1293 - val_acc: 0.9783\n",
            "\n",
            "Epoch 00013: val_acc did not improve from 0.98290\n",
            "Epoch 14/40\n",
            "\n",
            "Epoch 00014: LearningRateScheduler setting learning rate to 0.0005828638.\n",
            "60000/60000 [==============================] - 8s 129us/step - loss: 0.1699 - acc: 0.9509 - val_loss: 0.1468 - val_acc: 0.9732\n",
            "\n",
            "Epoch 00014: val_acc did not improve from 0.98290\n",
            "Epoch 15/40\n",
            "\n",
            "Epoch 00015: LearningRateScheduler setting learning rate to 0.0005488474.\n",
            "60000/60000 [==============================] - 8s 127us/step - loss: 0.1699 - acc: 0.9501 - val_loss: 0.0914 - val_acc: 0.9880\n",
            "\n",
            "Epoch 00015: val_acc improved from 0.98290 to 0.98800, saving model to weights-improvement.hdf5\n",
            "Epoch 16/40\n",
            "\n",
            "Epoch 00016: LearningRateScheduler setting learning rate to 0.0005185825.\n",
            "60000/60000 [==============================] - 8s 127us/step - loss: 0.1660 - acc: 0.9499 - val_loss: 0.0890 - val_acc: 0.9878\n",
            "\n",
            "Epoch 00016: val_acc did not improve from 0.98800\n",
            "Epoch 17/40\n",
            "\n",
            "Epoch 00017: LearningRateScheduler setting learning rate to 0.000491481.\n",
            "60000/60000 [==============================] - 8s 127us/step - loss: 0.1635 - acc: 0.9512 - val_loss: 0.0951 - val_acc: 0.9872\n",
            "\n",
            "Epoch 00017: val_acc did not improve from 0.98800\n",
            "Epoch 18/40\n",
            "\n",
            "Epoch 00018: LearningRateScheduler setting learning rate to 0.0004670715.\n",
            "60000/60000 [==============================] - 8s 128us/step - loss: 0.1596 - acc: 0.9513 - val_loss: 0.0868 - val_acc: 0.9881\n",
            "\n",
            "Epoch 00018: val_acc improved from 0.98800 to 0.98810, saving model to weights-improvement.hdf5\n",
            "Epoch 19/40\n",
            "\n",
            "Epoch 00019: LearningRateScheduler setting learning rate to 0.0004449718.\n",
            "60000/60000 [==============================] - 8s 129us/step - loss: 0.1569 - acc: 0.9523 - val_loss: 0.1048 - val_acc: 0.9814\n",
            "\n",
            "Epoch 00019: val_acc did not improve from 0.98810\n",
            "Epoch 20/40\n",
            "\n",
            "Epoch 00020: LearningRateScheduler setting learning rate to 0.000424869.\n",
            "60000/60000 [==============================] - 8s 128us/step - loss: 0.1561 - acc: 0.9515 - val_loss: 0.0828 - val_acc: 0.9882\n",
            "\n",
            "Epoch 00020: val_acc improved from 0.98810 to 0.98820, saving model to weights-improvement.hdf5\n",
            "Epoch 21/40\n",
            "\n",
            "Epoch 00021: LearningRateScheduler setting learning rate to 0.0004065041.\n",
            "60000/60000 [==============================] - 8s 129us/step - loss: 0.1531 - acc: 0.9529 - val_loss: 0.0895 - val_acc: 0.9856\n",
            "\n",
            "Epoch 00021: val_acc did not improve from 0.98820\n",
            "Epoch 22/40\n",
            "\n",
            "Epoch 00022: LearningRateScheduler setting learning rate to 0.000389661.\n",
            "60000/60000 [==============================] - 8s 130us/step - loss: 0.1527 - acc: 0.9511 - val_loss: 0.0767 - val_acc: 0.9895\n",
            "\n",
            "Epoch 00022: val_acc improved from 0.98820 to 0.98950, saving model to weights-improvement.hdf5\n",
            "Epoch 23/40\n",
            "\n",
            "Epoch 00023: LearningRateScheduler setting learning rate to 0.0003741581.\n",
            "60000/60000 [==============================] - 8s 129us/step - loss: 0.1495 - acc: 0.9524 - val_loss: 0.0721 - val_acc: 0.9910\n",
            "\n",
            "Epoch 00023: val_acc improved from 0.98950 to 0.99100, saving model to weights-improvement.hdf5\n",
            "Epoch 24/40\n",
            "\n",
            "Epoch 00024: LearningRateScheduler setting learning rate to 0.0003598417.\n",
            "60000/60000 [==============================] - 8s 129us/step - loss: 0.1475 - acc: 0.9529 - val_loss: 0.1325 - val_acc: 0.9716\n",
            "\n",
            "Epoch 00024: val_acc did not improve from 0.99100\n",
            "Epoch 25/40\n",
            "\n",
            "Epoch 00025: LearningRateScheduler setting learning rate to 0.0003465804.\n",
            "60000/60000 [==============================] - 8s 129us/step - loss: 0.1448 - acc: 0.9543 - val_loss: 0.0715 - val_acc: 0.9905\n",
            "\n",
            "Epoch 00025: val_acc did not improve from 0.99100\n",
            "Epoch 26/40\n",
            "\n",
            "Epoch 00026: LearningRateScheduler setting learning rate to 0.0003342618.\n",
            "60000/60000 [==============================] - 8s 130us/step - loss: 0.1442 - acc: 0.9543 - val_loss: 0.0713 - val_acc: 0.9913\n",
            "\n",
            "Epoch 00026: val_acc improved from 0.99100 to 0.99130, saving model to weights-improvement.hdf5\n",
            "Epoch 27/40\n",
            "\n",
            "Epoch 00027: LearningRateScheduler setting learning rate to 0.0003227889.\n",
            "60000/60000 [==============================] - 8s 129us/step - loss: 0.1420 - acc: 0.9537 - val_loss: 0.0697 - val_acc: 0.9912\n",
            "\n",
            "Epoch 00027: val_acc did not improve from 0.99130\n",
            "Epoch 28/40\n",
            "\n",
            "Epoch 00028: LearningRateScheduler setting learning rate to 0.0003120774.\n",
            "60000/60000 [==============================] - 8s 129us/step - loss: 0.1447 - acc: 0.9521 - val_loss: 0.0683 - val_acc: 0.9911\n",
            "\n",
            "Epoch 00028: val_acc did not improve from 0.99130\n",
            "Epoch 29/40\n",
            "\n",
            "Epoch 00029: LearningRateScheduler setting learning rate to 0.000302054.\n",
            "60000/60000 [==============================] - 8s 129us/step - loss: 0.1394 - acc: 0.9542 - val_loss: 0.0814 - val_acc: 0.9864\n",
            "\n",
            "Epoch 00029: val_acc did not improve from 0.99130\n",
            "Epoch 30/40\n",
            "\n",
            "Epoch 00030: LearningRateScheduler setting learning rate to 0.0002926544.\n",
            "60000/60000 [==============================] - 8s 129us/step - loss: 0.1386 - acc: 0.9554 - val_loss: 0.0951 - val_acc: 0.9826\n",
            "\n",
            "Epoch 00030: val_acc did not improve from 0.99130\n",
            "Epoch 31/40\n",
            "\n",
            "Epoch 00031: LearningRateScheduler setting learning rate to 0.0002838221.\n",
            "60000/60000 [==============================] - 8s 130us/step - loss: 0.1369 - acc: 0.9554 - val_loss: 0.0661 - val_acc: 0.9910\n",
            "\n",
            "Epoch 00031: val_acc did not improve from 0.99130\n",
            "Epoch 32/40\n",
            "\n",
            "Epoch 00032: LearningRateScheduler setting learning rate to 0.0002755074.\n",
            "60000/60000 [==============================] - 8s 130us/step - loss: 0.1365 - acc: 0.9541 - val_loss: 0.0627 - val_acc: 0.9923\n",
            "\n",
            "Epoch 00032: val_acc improved from 0.99130 to 0.99230, saving model to weights-improvement.hdf5\n",
            "Epoch 33/40\n",
            "\n",
            "Epoch 00033: LearningRateScheduler setting learning rate to 0.000267666.\n",
            "60000/60000 [==============================] - 8s 130us/step - loss: 0.1356 - acc: 0.9549 - val_loss: 0.0808 - val_acc: 0.9871\n",
            "\n",
            "Epoch 00033: val_acc did not improve from 0.99230\n",
            "Epoch 34/40\n",
            "\n",
            "Epoch 00034: LearningRateScheduler setting learning rate to 0.0002602585.\n",
            "60000/60000 [==============================] - 8s 129us/step - loss: 0.1357 - acc: 0.9541 - val_loss: 0.0854 - val_acc: 0.9850\n",
            "\n",
            "Epoch 00034: val_acc did not improve from 0.99230\n",
            "Epoch 35/40\n",
            "\n",
            "Epoch 00035: LearningRateScheduler setting learning rate to 0.00025325.\n",
            "60000/60000 [==============================] - 8s 129us/step - loss: 0.1344 - acc: 0.9545 - val_loss: 0.0727 - val_acc: 0.9881\n",
            "\n",
            "Epoch 00035: val_acc did not improve from 0.99230\n",
            "Epoch 36/40\n",
            "\n",
            "Epoch 00036: LearningRateScheduler setting learning rate to 0.0002466091.\n",
            "60000/60000 [==============================] - 8s 129us/step - loss: 0.1322 - acc: 0.9554 - val_loss: 0.0656 - val_acc: 0.9909\n",
            "\n",
            "Epoch 00036: val_acc did not improve from 0.99230\n",
            "Epoch 37/40\n",
            "\n",
            "Epoch 00037: LearningRateScheduler setting learning rate to 0.0002403076.\n",
            "60000/60000 [==============================] - 8s 129us/step - loss: 0.1346 - acc: 0.9539 - val_loss: 0.0635 - val_acc: 0.9901\n",
            "\n",
            "Epoch 00037: val_acc did not improve from 0.99230\n",
            "Epoch 38/40\n",
            "\n",
            "Epoch 00038: LearningRateScheduler setting learning rate to 0.0002343201.\n",
            "60000/60000 [==============================] - 8s 128us/step - loss: 0.1314 - acc: 0.9548 - val_loss: 0.0882 - val_acc: 0.9827\n",
            "\n",
            "Epoch 00038: val_acc did not improve from 0.99230\n",
            "Epoch 39/40\n",
            "\n",
            "Epoch 00039: LearningRateScheduler setting learning rate to 0.0002286237.\n",
            "60000/60000 [==============================] - 8s 127us/step - loss: 0.1306 - acc: 0.9557 - val_loss: 0.0741 - val_acc: 0.9873\n",
            "\n",
            "Epoch 00039: val_acc did not improve from 0.99230\n",
            "Epoch 40/40\n",
            "\n",
            "Epoch 00040: LearningRateScheduler setting learning rate to 0.0002231977.\n",
            "60000/60000 [==============================] - 8s 127us/step - loss: 0.1286 - acc: 0.9572 - val_loss: 0.0748 - val_acc: 0.9878\n",
            "\n",
            "Epoch 00040: val_acc did not improve from 0.99230\n"
          ],
          "name": "stdout"
        },
        {
          "output_type": "execute_result",
          "data": {
            "text/plain": [
              "<keras.callbacks.History at 0x7f4defce39e8>"
            ]
          },
          "metadata": {
            "tags": []
          },
          "execution_count": 67
        }
      ]
    },
    {
      "cell_type": "code",
      "metadata": {
        "id": "WLxlW9ufyQiO",
        "colab_type": "code",
        "outputId": "e6553d05-74df-4f03-b119-cde3fd76c658",
        "colab": {
          "base_uri": "https://localhost:8080/",
          "height": 34
        }
      },
      "source": [
        "from keras.models import load_model\n",
        "model = load_model('weights-improvement.hdf5')\n",
        "score = model.evaluate(testX, testy, verbose=0)\n",
        "print(score)"
      ],
      "execution_count": 93,
      "outputs": [
        {
          "output_type": "stream",
          "text": [
            "[0.06274995970129967, 0.9923]\n"
          ],
          "name": "stdout"
        }
      ]
    },
    {
      "cell_type": "code",
      "metadata": {
        "id": "m2qDl21ozBnW",
        "colab_type": "code",
        "outputId": "1ef54758-7117-4263-94da-5e25e71573ac",
        "colab": {
          "base_uri": "https://localhost:8080/",
          "height": 286
        }
      },
      "source": [
        "l=[]\n",
        "misclassified = np.nonzero(model.predict_classes(X_test).reshape((-1,)) != y_test)\n",
        "for i in range(25):\n",
        "  l.append(misclassified[0][i])\n",
        "print(l) \n",
        "\n",
        "(X_train, y_train), (X_test, y_test) = mnist.load_data()\n",
        "from matplotlib import pyplot as plt\n",
        "%matplotlib inline\n",
        "\n",
        "for idx in range(25):  \n",
        "  v=l[idx]\n",
        "  plt.subplot(5,5,idx+1)\n",
        "  plt.imshow(X_test[v])\n",
        "  "
      ],
      "execution_count": 97,
      "outputs": [
        {
          "output_type": "stream",
          "text": [
            "[2, 3, 5, 6, 7, 10, 13, 14, 20, 21, 25, 28, 29, 31, 36, 37, 39, 40, 42, 46, 55, 57, 61, 62, 65]\n"
          ],
          "name": "stdout"
        },
        {
          "output_type": "display_data",
          "data": {
            "image/png": "[encoded data removed]",
            "text/plain": [
              "<Figure size 432x288 with 25 Axes>"
            ]
          },
          "metadata": {
            "tags": []
          }
        }
      ]
    },
    {
      "cell_type": "code",
      "metadata": {
        "id": "8PgTXuK3l0pj",
        "colab_type": "code",
        "colab": {}
      },
      "source": [
        ""
      ],
      "execution_count": 0,
      "outputs": []
    }
  ]
}